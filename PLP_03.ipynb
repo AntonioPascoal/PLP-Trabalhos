{
  "nbformat": 4,
  "nbformat_minor": 0,
  "metadata": {
    "colab": {
      "provenance": [],
      "authorship_tag": "ABX9TyO0mKnvqtSfsuxV4sRtqdKA",
      "include_colab_link": true
    },
    "kernelspec": {
      "name": "python3",
      "display_name": "Python 3"
    },
    "language_info": {
      "name": "python"
    }
  },
  "cells": [
    {
      "cell_type": "markdown",
      "metadata": {
        "id": "view-in-github",
        "colab_type": "text"
      },
      "source": [
        "<a href=\"https://colab.research.google.com/github/AntonioPascoal/PLP-Trabalhos/blob/main/PLP_03.ipynb\" target=\"_parent\"><img src=\"https://colab.research.google.com/assets/colab-badge.svg\" alt=\"Open In Colab\"/></a>"
      ]
    },
    {
      "cell_type": "markdown",
      "source": [
        "1-Lê um vetor de 8 posições e, em seguida,lê dois valores X e Y quaisquer correspondente a duas posições no vetor.O progama então imprime a soma dos valores encontrados nas respectivas pósições X e Y.\n",
        "\n",
        "Resposta:"
      ],
      "metadata": {
        "id": "P_-hVcN1dnGC"
      }
    },
    {
      "cell_type": "code",
      "execution_count": null,
      "metadata": {
        "id": "y4jRmrc1dgGv"
      },
      "outputs": [],
      "source": [
        "def main():\n",
        "  vetor =[0]* 8\n",
        "  for i in range(8):\n",
        "    vetor[i]=int(input(\"Digite o valor da posição{}:\".format(i)))\n",
        "  x = int(input(\"Digite o valor de X:\"))\n",
        "  y = int(input(\"Digite o valor de y:\"))\n",
        "  soma = vetor[x] + vetor[y]\n",
        "  print(\"A soma dos valores nas posições X e Y é{}.\".format(soma))\n",
        "if __name__ == \"__main__\":\n",
        "  main()"
      ]
    },
    {
      "cell_type": "markdown",
      "source": [
        "2-Faça um progama em Phyton que receba do usuario um vetor com 10 posições. Em seguida devera ser impresso o maior e o menor elemento do vetor alem da soma,media de todos os numeros e a quantida de elementos acima de 5.\n",
        "\n",
        "Resposta:"
      ],
      "metadata": {
        "id": "7-g7Lq_2jc06"
      }
    },
    {
      "cell_type": "code",
      "source": [
        "#Impresso o maior e o menor elemento do vetor\n",
        "def main():\n",
        "  #inicia o vetor zerado\n",
        "  vetor = []\n",
        "  #faz a leitura e preencimento dos elemento do vetor\n",
        "  for i in range(10):\n",
        "    vetor .append(int(input(\"Digite o elemento %d: \" % i)))\n",
        "    #Inicializa as variaveis\n",
        "  maior = vetor[0]\n",
        "  menor = vetor[0]\n",
        "  #Fazer o laço para armazenar os conteudos dos elementos nas variaveis\n",
        "  for i in range(1, len(vetor)):\n",
        "    if vetor[i] > maior:\n",
        "      maior = vetor[i]\n",
        "    elif vetor[i]<menor:\n",
        "      menor = vetor[i]\n",
        "  #Exibir o resultado final das variaveis\n",
        "  print(\"O maior valor é: {}\".format(maior))\n",
        "  print(\"O menor valor é: {}\".format(menor))\n",
        "if __name__ == \"__main__\":\n",
        "  main()\n",
        "#Depois lembrar de colocar as outras atividade python aqui no colab"
      ],
      "metadata": {
        "id": "1Ptm70pMjomx"
      },
      "execution_count": null,
      "outputs": []
    },
    {
      "cell_type": "markdown",
      "source": [
        "3-Faça um programa em Python que receba do usuario dois vetores, A e B, com\n",
        "10 numeros inteiros cada. Crie um novo vetor denominado C calculando C = A-B. Mostre na tela os dados do vetor C.\n",
        "\n",
        "Resposta:\n"
      ],
      "metadata": {
        "id": "Md8024_Nagwo"
      }
    },
    {
      "cell_type": "code",
      "source": [
        "def main():\n",
        "    vetor_a = []\n",
        "    vetor_b = []\n",
        "    vetor_c = []\n",
        "\n",
        "    for i in range(10):\n",
        "        vetor_a.append(int(input(\"Digite o elemento %d do vetor A: \" % i)))\n",
        "        vetor_b.append(int(input(\"Digite o elemento %d do vetor B: \" % i)))\n",
        "\n",
        "    for i in range(10):\n",
        "        vetor_c.append(vetor_a[i] - vetor_b[i])\n",
        "\n",
        "    print(\"Vetor C:\")\n",
        "    for i in range(10):\n",
        "        print(vetor_c[i])\n",
        "\n",
        "\n",
        "if __name__ == \"__main__\":\n",
        "    main()"
      ],
      "metadata": {
        "id": "QuH70kkvvnzZ"
      },
      "execution_count": null,
      "outputs": []
    },
    {
      "cell_type": "markdown",
      "source": [
        "4-Faça um programa em Python que receba 6 numeros inteiros e mostre:\n",
        "• Os numeros pares digitados;\n",
        "• A soma dos numeros pares digitados;\n",
        "• Os numeros   ımpares digitados;\n",
        "• A quantidade de numeros  ımpares\n",
        "\n",
        "Respsota:\n"
      ],
      "metadata": {
        "id": "4ozCjbvka5Q_"
      }
    },
    {
      "cell_type": "code",
      "source": [
        "def main():\n",
        "    numeros = []\n",
        "    numeros_pares = []\n",
        "    numeros_impares = []\n",
        "    soma_pares = 0\n",
        "\n",
        "    for i in range(6):\n",
        "        numeros.append(int(input(\"Digite um número: \")))\n",
        "\n",
        "    for numero in numeros:\n",
        "        if numero % 2 == 0:\n",
        "            numeros_pares.append(numero)\n",
        "            soma_pares += numero\n",
        "        else:\n",
        "            numeros_impares.append(numero)\n",
        "\n",
        "    print(\"Os números pares digitados são:\")\n",
        "    for numero in numeros_pares:\n",
        "        print(numero)\n",
        "\n",
        "    print(\"A soma dos números pares digitados é:\", soma_pares)\n",
        "\n",
        "    print(\"Os números ímpares digitados são:\")\n",
        "    for numero in numeros_impares:\n",
        "        print(numero)\n",
        "\n",
        "    print(\"A quantidade de números ímpares digitados é:\", len(numeros_impares))\n",
        "\n",
        "\n",
        "if __name__ == \"__main__\":\n",
        "    main()"
      ],
      "metadata": {
        "id": "dqoJi_oza_bZ"
      },
      "execution_count": null,
      "outputs": []
    },
    {
      "cell_type": "markdown",
      "source": [
        "//Classe adaptada (Adaptee)\n",
        "class SensorXbox2 {\n",
        "\n",
        "    //Solicitação Especifica\n",
        "    public void conectarXbox2() {\n",
        "        System.out.println(\"Um novo controle foi conectado ao sensor do Xbox.\");\n",
        "    }\n",
        "}\n",
        "\n",
        "//Classe alvo (Target)\n",
        "class SensorPS5 {\n",
        "\n",
        "    //Solicitação\n",
        "    public void conectarPS5() {\n",
        "        System.out.println(\"Um novo controle foi conectado ao sensor do PS5.\");\n",
        "    }\n",
        "}\n",
        "\n",
        "//Classe adaptador (Adapter)\n",
        "class AdaptadorPS5ParaXbox2 extends SensorPS5 {\n",
        "\n",
        "    private SensorXbox2 adaptee;\n",
        "\n",
        "    public AdaptadorPS5ParaXbox2(SensorXbox2 adaptee) {\n",
        "        this.adaptee = adaptee;\n",
        "    }\n",
        "\n",
        "    //Override da solicitação\n",
        "    public void conectarPS5() {\n",
        "        adaptee.conectarXbox2();\n",
        "        System.out.println(\"But stadia wins!\");\n",
        "    }\n",
        "}\n",
        "\n",
        "//Classe Cliente(Client)\n",
        "public class ControlePS5 {\n",
        "\n",
        "    private SensorPS5 sensorAQueSeConecta;\n",
        "    \n",
        "    public void Conectar(SensorPS5 sensor){\n",
        "        this.sensorAQueSeConecta = sensor;\n",
        "        sensorAQueSeConecta.conectarPS5();\n",
        "    }\n",
        "\n",
        "//}\n",
        "//public class Teste{\n",
        "    public static void main(String[] args) {\n",
        "        \n",
        "        //Tem-se um Xbox2 e mas deseja-se usar um controle ps5:\n",
        "        SensorXbox2 adaptee = new SensorXbox2();\n",
        "        ControlePS5 target = new ControlePS5();\n",
        "        \n",
        "        //Cria-se um falso sensor de PS5 que, na verdade, traduz e repassa os comandos para o Xbox em questão:\n",
        "        AdaptadorPS5ParaXbox2 adapter = new AdaptadorPS5ParaXbox2(adaptee);\n",
        "        \n",
        "        //Conecta-se o controle ao adapter:\n",
        "        target.Conectar(adapter);\n",
        "    }\n",
        "}\n",
        "\n",
        "//Saída:\n",
        "//Um novo controle foi conectado ao sensor do Xbox.\n",
        "//But stadia wins!"
      ],
      "metadata": {
        "id": "0CxlcjteoXi9"
      }
    }
  ]
}