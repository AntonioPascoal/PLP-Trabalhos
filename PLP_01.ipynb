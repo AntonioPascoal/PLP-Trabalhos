{
  "nbformat": 4,
  "nbformat_minor": 0,
  "metadata": {
    "colab": {
      "provenance": [],
      "authorship_tag": "ABX9TyOl7CDg5kt1b0FgOMa/2t3Z",
      "include_colab_link": true
    },
    "kernelspec": {
      "name": "python3",
      "display_name": "Python 3"
    },
    "language_info": {
      "name": "python"
    }
  },
  "cells": [
    {
      "cell_type": "markdown",
      "metadata": {
        "id": "view-in-github",
        "colab_type": "text"
      },
      "source": [
        "<a href=\"https://colab.research.google.com/github/AntonioPascoal/PLP-Trabalhos/blob/main/PLP_01.ipynb\" target=\"_parent\"><img src=\"https://colab.research.google.com/assets/colab-badge.svg\" alt=\"Open In Colab\"/></a>"
      ]
    },
    {
      "cell_type": "markdown",
      "source": [
        "Progama 01 - Objetivo fazer a leitura de duas nota e calcular sua media"
      ],
      "metadata": {
        "id": "lDrLIyuHM830"
      }
    },
    {
      "cell_type": "code",
      "source": [
        "nota1 = float(input(\"Informe a nota 1:\"))\n",
        "nota2 = float(input(\"Informe a nota 2:\"))\n",
        "med =(nota1 + nota2)/2\n",
        "print(\"A media final é:\")\n",
        "print(med)"
      ],
      "metadata": {
        "id": "O8oDH5XdNEy0"
      },
      "execution_count": null,
      "outputs": []
    },
    {
      "cell_type": "markdown",
      "source": [
        "Progama 01parte2 - Escrevendo o mesmo problema de forma modularizada com funções e procedimentos"
      ],
      "metadata": {
        "id": "X5ynwQchPnYn"
      }
    },
    {
      "cell_type": "code",
      "source": [
        "def CalculaMedia(nota1, nota2):\n",
        "  Med = (nota1 + nota2) /2\n",
        "  print(\"A media final é:\", Med)\n",
        "\n",
        "CalculaMedia(9,8)"
      ],
      "metadata": {
        "colab": {
          "base_uri": "https://localhost:8080/"
        },
        "id": "3YWqZD5ZPfbs",
        "outputId": "d9e48cf5-5ebe-418a-a323-c68fcbdbc59d"
      },
      "execution_count": null,
      "outputs": [
        {
          "output_type": "stream",
          "name": "stdout",
          "text": [
            "A media final é: 8.5\n"
          ]
        }
      ]
    },
    {
      "cell_type": "markdown",
      "source": [
        "Progama 02 Faça um progama que solicite um preço de uma mercadoria e o percentual de desconto.Exiba o valor do descontos e o preço a pagar\n",
        "\n",
        "Resposta:"
      ],
      "metadata": {
        "id": "g63vN0aqR0ae"
      }
    },
    {
      "cell_type": "code",
      "source": [
        "def desconto(produto,desc):\n",
        "  if(desc == 0):\n",
        "    return print(produto)\n",
        "  total = produto*(desc/100)\n",
        "  return print(total)\n",
        "\n",
        "produto = float(input(\"Informe o valor do produto:\"))\n",
        "desc =float(input(\"Informe o desconto:\"))\n",
        "\n",
        "print(\"O desconto é\")\n",
        "desconto(produto,desc)"
      ],
      "metadata": {
        "id": "swFafEOzR-SE"
      },
      "execution_count": null,
      "outputs": []
    },
    {
      "cell_type": "markdown",
      "source": [
        "Progama 03 Escreva um progama para calcular a redução do tempo de vida de um fumante.Pergunte a quantidade de cigarros fumados por dia e quantos anos ele já fumou.Considere que um fumante perde 10 minutos de vida a cada cigarro, e calcule quantos dias de vida um fumante perderá.Exiba o total de em dias.\n",
        "\n",
        "Resposta:"
      ],
      "metadata": {
        "id": "HkRXNCGOU_R3"
      }
    },
    {
      "cell_type": "code",
      "source": [
        "cigarros_por_dia = int(input(\"Quantida de cigarros por dia:\"))\n",
        "anos_fumando = float(input(\"Quantida de anos fumando:\"))\n",
        "redução_em_minutos = anos_fumando * 365 * cigarros_por_dia *10\n",
        "\n",
        "redução_em_dias = redução_em_minutos /(24*60)\n",
        "print(\"Redução do tempo de vida %8.2f dias.\" %redução_em_dias)"
      ],
      "metadata": {
        "colab": {
          "base_uri": "https://localhost:8080/"
        },
        "id": "Yg9kzfE_Vchc",
        "outputId": "e8993086-4935-452a-fc2c-f0b5474a6c0e"
      },
      "execution_count": null,
      "outputs": [
        {
          "output_type": "stream",
          "name": "stdout",
          "text": [
            "Quantida de cigarros por dia:5\n",
            "Quantida de anos fumando:5\n",
            "Redução do tempo de vida    63.37 dias.\n"
          ]
        }
      ]
    },
    {
      "cell_type": "markdown",
      "source": [
        "Aula2"
      ],
      "metadata": {
        "id": "AwxuMSrOaN5L"
      }
    },
    {
      "cell_type": "markdown",
      "source": [
        "Escreve um progama para controlar uma pequena máquina registradora.Você deve solicitar ao usuário que digite o código do produto e a quantidade comprada.Utilize a tabela de códigos a seguir para obter o preço de cada produto:\n",
        "\n",
        "Código preço 1:0,50 2:1,00 3:4,00 5:7,00 9:8,00 Seu progama deve exibir o total das compras depois que o usuário digitar 0. Qualquer outro código deve gerar a mensagem de erro \"Código invalido\".\n",
        "\n",
        "Resposta:"
      ],
      "metadata": {
        "id": "GrkTRLXoXefl"
      }
    },
    {
      "cell_type": "code",
      "source": [
        "apagar = 0\n",
        "while True:\n",
        "  código = int(input(\"Código do produto(0 para sair):\"))\n",
        "  preço = 0\n",
        "  if código == 0:\n",
        "    break\n",
        "  elif código == 1:\n",
        "       preço = 0,50\n",
        "  elif código == 2:\n",
        "       preço = 1,00\n",
        "  elif código == 3:\n",
        "       preço = 4,00\n",
        "  elif código == 5:\n",
        "       preço = 7,00\n",
        "  elif código == 9:\n",
        "       preço = 8,00\n",
        "  else:\n",
        "    print(\"Código invalido\")\n",
        "  if preço != 0:\n",
        "    quantidade = int(input(\"Quantidade:\"))\n",
        "    apagar = apagar + (preço * quantidade)\n",
        "print(f\"Total a pagar R$(apagar:8.2f)\" )"
      ],
      "metadata": {
        "id": "-JHWchZwYgGK"
      },
      "execution_count": null,
      "outputs": []
    },
    {
      "cell_type": "markdown",
      "source": [
        "Exemplo em java igual ao de cima"
      ],
      "metadata": {
        "id": "dkF1zHmIjTF9"
      }
    },
    {
      "cell_type": "code",
      "source": [
        "\n",
        "import java.util.Scanner;\n",
        "\n",
        "public class Main {\n",
        "    public static void main(String[] args) {\n",
        "        double apagar = 0;\n",
        "        Scanner scanner = new Scanner(System.in);\n",
        "\n",
        "        while (true) {\n",
        "            System.out.print(\"Código do produto (0 para sair): \");\n",
        "            int codigo = scanner.nextInt();\n",
        "            double preco = 0;\n",
        "\n",
        "            if (codigo == 0) {\n",
        "                break;\n",
        "            } else if (codigo == 1) {\n",
        "                preco = 0.50;\n",
        "            } else if (codigo == 2) {\n",
        "                preco = 1.00;\n",
        "            } else if (codigo == 3) {\n",
        "                preco = 4.00;\n",
        "            } else if (codigo == 5) {\n",
        "                preco = 7.00;\n",
        "            } else if (codigo == 9) {\n",
        "                preco = 8.00;\n",
        "            } else {\n",
        "                System.out.println(\"Código inválido\");\n",
        "            }\n",
        "\n",
        "            if (preco != 0) {\n",
        "                System.out.print(\"Quantidade: \");\n",
        "                int quantidade = scanner.nextInt();\n",
        "                apagar = apagar + (preco * quantidade);\n",
        "            }\n",
        "        }\n",
        "\n",
        "        System.out.printf(\"Total a pagar R$%.2f%n\", apagar);\n",
        "    }\n",
        "}"
      ],
      "metadata": {
        "id": "esM9lZ66f1WZ"
      },
      "execution_count": null,
      "outputs": []
    },
    {
      "cell_type": "markdown",
      "source": [
        "Exmplo usando a linguagem GO"
      ],
      "metadata": {
        "id": "YRu9b3kWmrZA"
      }
    },
    {
      "cell_type": "code",
      "source": [
        "\n",
        "package main\n",
        "\n",
        "import (\n",
        "    \"fmt\"\n",
        ")\n",
        "\n",
        "func main() {\n",
        "    apagar := 0.0\n",
        "\n",
        "    for {\n",
        "        var codigo int\n",
        "        fmt.Print(\"Código do produto (0 para sair): \")\n",
        "        fmt.Scanln(&codigo)\n",
        "        preco := 0.0\n",
        "\n",
        "        if codigo == 0 {\n",
        "            break\n",
        "        } else if codigo == 1 {\n",
        "            preco = 0.50\n",
        "        } else if codigo == 2 {\n",
        "            preco = 1.00\n",
        "        } else if codigo == 3 {\n",
        "            preco = 4.00\n",
        "        } else if codigo == 5 {\n",
        "            preco = 7.00\n",
        "        } else if codigo == 9 {\n",
        "            preco = 8.00\n",
        "        } else {\n",
        "            fmt.Println(\"Código inválido\")\n",
        "        }\n",
        "\n",
        "        if preco != 0 {\n",
        "            var quantidade int\n",
        "            fmt.Print(\"Quantidade: \")\n",
        "            fmt.Scanln(&quantidade)\n",
        "            apagar = apagar + (preco * float64(quantidade))\n",
        "        }\n",
        "    }\n",
        "\n",
        "    fmt.Printf(\"Total a pagar R$%.2f\\n\", apagar)\n",
        "}"
      ],
      "metadata": {
        "id": "EdcdJ3UImXL6"
      },
      "execution_count": null,
      "outputs": []
    },
    {
      "cell_type": "markdown",
      "source": [
        "Qual é o valor a ser pago por um consumo de energia elétrica de X kWh com um tipo de instalação Y (R, C ou I), considerando as taxas de preço:\n",
        "\n",
        "Tipo de instalação \"R\":\n",
        "Se o consumo for menor ou igual a 500 kWh, o preço é 0.40 por kWh.\n",
        "Se o consumo for maior que 500 kWh, o preço é 0.65 por kWh.\n",
        "\n",
        "Tipo de instalação \"I\":\n",
        "Se o consumo for menor ou igual a 5000 kWh, o preço é 0.55 por kWh.\n",
        "Se o consumo for maior que 5000 kWh, o preço é 0.60 por kWh.\n",
        "\n",
        "Tipo de instalação \"C\":\n",
        "Se o consumo for menor ou igual a 1000 kWh, o preço é 0.55 por kWh.\n",
        "Se o consumo for maior que 1000 kWh, o preço é 0.60 por kWh.\n",
        "\n",
        "Resposta:"
      ],
      "metadata": {
        "id": "QYFotyWHVr2e"
      }
    },
    {
      "cell_type": "code",
      "source": [
        "consumo = int(input(\"Consumo em kWh: \"))\n",
        "tipo = input(\"Tipo da instalação (R, C ou I): \")\n",
        "if tipo == \"R\":\n",
        "    if consumo <= 500:\n",
        "        preço = 0.40\n",
        "    else:\n",
        "        preço = 0.65\n",
        "elif tipo == \"I\":\n",
        "    if consumo <= 5000:\n",
        "        preço = 0.55\n",
        "    else:\n",
        "        preço = 0.60\n",
        "elif tipo == \"C\":\n",
        "    if consumo <= 1000:\n",
        "        preço = 0.55\n",
        "    else:\n",
        "        preço = 0.60\n",
        "else:\n",
        "    preço = 0\n",
        "    print(\"Erro ! Tipo de instalação desconhecido!\")\n",
        "custo = consumo * preço\n",
        "print(f\"Valor a pagar: R$ {custo:7.2f}\")\n"
      ],
      "metadata": {
        "id": "BT2jwkygVmbe"
      },
      "execution_count": null,
      "outputs": []
    },
    {
      "cell_type": "markdown",
      "source": [
        "Escreva um programa que compare duas listas. Utilizando operações com conjuntos, imprima:\n",
        "• os valores comuns às duas listas\n",
        "• os valores que só existem na primeira\n",
        "• os valores que existem apenas na segunda\n",
        "• uma lista com os elementos não repetidos das duas listas.\n",
        "• a primeira lista sem os elementos repetidos na segunda\n",
        "\n",
        "Resposta:"
      ],
      "metadata": {
        "id": "vSIerUTOX87n"
      }
    },
    {
      "cell_type": "code",
      "source": [
        "L1 = [1, 2, 6, 8]\n",
        "L2 = [3, 6, 8, 9]\n",
        "\n",
        "print(f\"Lista 1: {L1}\")\n",
        "print(f\"Lista 2: {L2}\")\n",
        "\n",
        "conjunto_1 = set(L1)\n",
        "conjunto_2 = set(L2)\n",
        "\n",
        "print(\"Valores comuns às duas listas:\", conjunto_1 & conjunto_2)\n",
        "print(\"Valores que só existem na primeira:\", conjunto_1 - conjunto_2)\n",
        "print(\"Valores que só existem na segunda:\", conjunto_2 - conjunto_1)\n",
        "\n",
        "print(\"Elementos não repetidos nas duas listas:\", conjunto_1 ^ conjunto_2)\n",
        "\n",
        "print(\"Primeira lista, sem os elementos repetidos na segunda:\",\n",
        "      conjunto_1 - conjunto_2)"
      ],
      "metadata": {
        "id": "F8V1hbJbYG6u"
      },
      "execution_count": null,
      "outputs": []
    },
    {
      "cell_type": "markdown",
      "source": [
        "Altere o programa anterior de forma a perguntar também o valor depositado mensalmente. Esse valor será depositado no início de cada mês, e você deve considerá-lo para o cálculo de juros do mês seguinte.\n",
        "\n",
        "Resposta:"
      ],
      "metadata": {
        "id": "gci6LeF-YYpt"
      }
    },
    {
      "cell_type": "code",
      "source": [
        "depósito = float(input(\"Depósito inicial: \"))\n",
        "taxa = float(input(\"Taxa de juros (Ex.: 3 para 3%): \"))\n",
        "investimento = float(input(\"Depósito mensal: \"))\n",
        "mês = 1\n",
        "saldo = depósito\n",
        "while mês <= 24:\n",
        "    saldo = saldo + (saldo * (taxa / 100)) + investimento\n",
        "    print(f\"Saldo do mês {mês} é de R${saldo:5.2f}.\")\n",
        "    mês = mês + 1\n",
        "print(f\"O ganho obtido com os juros foi de R${saldo-depósito:8.2f}.\")"
      ],
      "metadata": {
        "id": "lm6p4TPdYa9l"
      },
      "execution_count": null,
      "outputs": []
    }
  ]
}